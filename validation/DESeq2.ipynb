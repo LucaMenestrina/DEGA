{
 "cells": [
  {
   "cell_type": "markdown",
   "id": "48782b8c-7f41-41cf-84d8-64e49dca89c2",
   "metadata": {},
   "source": [
    "# DESeq2 Use Case"
   ]
  },
  {
   "cell_type": "markdown",
   "id": "8064dfda-0d2d-4213-b7f3-b2695a9bde92",
   "metadata": {},
   "source": [
    "## Load Libraries"
   ]
  },
  {
   "cell_type": "code",
   "execution_count": 1,
   "id": "7bb77133-5912-47b9-9147-8f6045158276",
   "metadata": {},
   "outputs": [
    {
     "name": "stderr",
     "output_type": "stream",
     "text": [
      "Loading required package: S4Vectors\n",
      "\n",
      "Loading required package: stats4\n",
      "\n",
      "Loading required package: BiocGenerics\n",
      "\n",
      "\n",
      "Attaching package: ‘BiocGenerics’\n",
      "\n",
      "\n",
      "The following objects are masked from ‘package:stats’:\n",
      "\n",
      "    IQR, mad, sd, var, xtabs\n",
      "\n",
      "\n",
      "The following objects are masked from ‘package:base’:\n",
      "\n",
      "    anyDuplicated, append, as.data.frame, basename, cbind, colnames,\n",
      "    dirname, do.call, duplicated, eval, evalq, Filter, Find, get, grep,\n",
      "    grepl, intersect, is.unsorted, lapply, Map, mapply, match, mget,\n",
      "    order, paste, pmax, pmax.int, pmin, pmin.int, Position, rank,\n",
      "    rbind, Reduce, rownames, sapply, setdiff, sort, table, tapply,\n",
      "    union, unique, unsplit, which.max, which.min\n",
      "\n",
      "\n",
      "\n",
      "Attaching package: ‘S4Vectors’\n",
      "\n",
      "\n",
      "The following objects are masked from ‘package:base’:\n",
      "\n",
      "    expand.grid, I, unname\n",
      "\n",
      "\n",
      "Loading required package: IRanges\n",
      "\n",
      "Loading required package: GenomicRanges\n",
      "\n",
      "Loading required package: GenomeInfoDb\n",
      "\n",
      "Loading required package: SummarizedExperiment\n",
      "\n",
      "Loading required package: MatrixGenerics\n",
      "\n",
      "Loading required package: matrixStats\n",
      "\n",
      "\n",
      "Attaching package: ‘MatrixGenerics’\n",
      "\n",
      "\n",
      "The following objects are masked from ‘package:matrixStats’:\n",
      "\n",
      "    colAlls, colAnyNAs, colAnys, colAvgsPerRowSet, colCollapse,\n",
      "    colCounts, colCummaxs, colCummins, colCumprods, colCumsums,\n",
      "    colDiffs, colIQRDiffs, colIQRs, colLogSumExps, colMadDiffs,\n",
      "    colMads, colMaxs, colMeans2, colMedians, colMins, colOrderStats,\n",
      "    colProds, colQuantiles, colRanges, colRanks, colSdDiffs, colSds,\n",
      "    colSums2, colTabulates, colVarDiffs, colVars, colWeightedMads,\n",
      "    colWeightedMeans, colWeightedMedians, colWeightedSds,\n",
      "    colWeightedVars, rowAlls, rowAnyNAs, rowAnys, rowAvgsPerColSet,\n",
      "    rowCollapse, rowCounts, rowCummaxs, rowCummins, rowCumprods,\n",
      "    rowCumsums, rowDiffs, rowIQRDiffs, rowIQRs, rowLogSumExps,\n",
      "    rowMadDiffs, rowMads, rowMaxs, rowMeans2, rowMedians, rowMins,\n",
      "    rowOrderStats, rowProds, rowQuantiles, rowRanges, rowRanks,\n",
      "    rowSdDiffs, rowSds, rowSums2, rowTabulates, rowVarDiffs, rowVars,\n",
      "    rowWeightedMads, rowWeightedMeans, rowWeightedMedians,\n",
      "    rowWeightedSds, rowWeightedVars\n",
      "\n",
      "\n",
      "Loading required package: Biobase\n",
      "\n",
      "Welcome to Bioconductor\n",
      "\n",
      "    Vignettes contain introductory material; view with\n",
      "    'browseVignettes()'. To cite Bioconductor, see\n",
      "    'citation(\"Biobase\")', and for packages 'citation(\"pkgname\")'.\n",
      "\n",
      "\n",
      "\n",
      "Attaching package: ‘Biobase’\n",
      "\n",
      "\n",
      "The following object is masked from ‘package:MatrixGenerics’:\n",
      "\n",
      "    rowMedians\n",
      "\n",
      "\n",
      "The following objects are masked from ‘package:matrixStats’:\n",
      "\n",
      "    anyMissing, rowMedians\n",
      "\n",
      "\n",
      "\n",
      "Attaching package: ‘genefilter’\n",
      "\n",
      "\n",
      "The following objects are masked from ‘package:MatrixGenerics’:\n",
      "\n",
      "    rowSds, rowVars\n",
      "\n",
      "\n",
      "The following objects are masked from ‘package:matrixStats’:\n",
      "\n",
      "    rowSds, rowVars\n",
      "\n",
      "\n"
     ]
    }
   ],
   "source": [
    "library(\"DESeq2\")\n",
    "library(\"genefilter\")"
   ]
  },
  {
   "cell_type": "markdown",
   "id": "eabd90eb-0675-4bbb-b16d-3d0ac445dd9e",
   "metadata": {},
   "source": [
    "Set variables (data from the [Bottomly et al.](https://journals.plos.org/plosone/article?id=10.1371/journal.pone.0017820) dataset)"
   ]
  },
  {
   "cell_type": "code",
   "execution_count": 2,
   "id": "88a70ab9-9b24-4849-b91f-c719c2121f09",
   "metadata": {},
   "outputs": [],
   "source": [
    "GENE_COUNTS = \"https://raw.githubusercontent.com/LucaMenestrina/DEGA/main/validation/bottomly_counts.csv\"  # \"bottomly_counts.csv\"\n",
    "PHENO_DATA = \"https://raw.githubusercontent.com/LucaMenestrina/DEGA/main/validation/bottomly_phenotypes.csv\"  # \"bottomly_phenotypes.csv\"\n",
    "VAR_TO_TEST = \"strain\""
   ]
  },
  {
   "cell_type": "markdown",
   "id": "718d5c40-a2ad-4bfc-a8d5-eba9887075bf",
   "metadata": {},
   "source": [
    "Load data"
   ]
  },
  {
   "cell_type": "code",
   "execution_count": 3,
   "id": "ac574891-daf5-453a-8b68-9ec1385da9b7",
   "metadata": {},
   "outputs": [],
   "source": [
    "colData <- read.csv(PHENO_DATA, sep=\",\", row.names=1)\n",
    "countData <- as.matrix(read.csv(GENE_COUNTS, row.names=\"X\"))\n",
    "# filter and sort countData columns on the basis of colData index\n",
    "# (they have to be in the same order)\n",
    "countData <- countData[, rownames(colData)]"
   ]
  },
  {
   "cell_type": "markdown",
   "id": "04f65cf4-eb51-4b4b-88e9-99dfdc279669",
   "metadata": {},
   "source": [
    "Create DESeq2 object"
   ]
  },
  {
   "cell_type": "code",
   "execution_count": 4,
   "id": "3c79b6d4-6d96-4021-9b84-8a818d5fafb0",
   "metadata": {},
   "outputs": [
    {
     "name": "stderr",
     "output_type": "stream",
     "text": [
      "Warning message in DESeqDataSet(se, design = design, ignoreRank):\n",
      "“some variables in design formula are characters, converting to factors”\n",
      "  Note: levels of factors in the design contain characters other than\n",
      "  letters, numbers, '_' and '.'. It is recommended (but not required) to use\n",
      "  only letters, numbers, and delimiters '_' or '.', as these are safe characters\n",
      "  for column names in R. [This is a message, not a warning or an error]\n",
      "\n"
     ]
    }
   ],
   "source": [
    "dds <- DESeqDataSetFromMatrix(countData = countData, colData = colData, design = as.formula(paste(\"~\", VAR_TO_TEST)))"
   ]
  },
  {
   "cell_type": "markdown",
   "id": "9ce5d094-9742-4977-99ee-6c5d37115ed6",
   "metadata": {},
   "source": [
    "Run the differential expression analysis"
   ]
  },
  {
   "cell_type": "code",
   "execution_count": 5,
   "id": "8adee339-6955-4716-9e31-77ea49349db7",
   "metadata": {},
   "outputs": [
    {
     "name": "stderr",
     "output_type": "stream",
     "text": [
      "estimating size factors\n",
      "\n",
      "  Note: levels of factors in the design contain characters other than\n",
      "  letters, numbers, '_' and '.'. It is recommended (but not required) to use\n",
      "  only letters, numbers, and delimiters '_' or '.', as these are safe characters\n",
      "  for column names in R. [This is a message, not a warning or an error]\n",
      "\n",
      "estimating dispersions\n",
      "\n",
      "gene-wise dispersion estimates\n",
      "\n",
      "mean-dispersion relationship\n",
      "\n",
      "  Note: levels of factors in the design contain characters other than\n",
      "  letters, numbers, '_' and '.'. It is recommended (but not required) to use\n",
      "  only letters, numbers, and delimiters '_' or '.', as these are safe characters\n",
      "  for column names in R. [This is a message, not a warning or an error]\n",
      "\n",
      "final dispersion estimates\n",
      "\n",
      "  Note: levels of factors in the design contain characters other than\n",
      "  letters, numbers, '_' and '.'. It is recommended (but not required) to use\n",
      "  only letters, numbers, and delimiters '_' or '.', as these are safe characters\n",
      "  for column names in R. [This is a message, not a warning or an error]\n",
      "\n",
      "fitting model and testing\n",
      "\n",
      "  Note: levels of factors in the design contain characters other than\n",
      "  letters, numbers, '_' and '.'. It is recommended (but not required) to use\n",
      "  only letters, numbers, and delimiters '_' or '.', as these are safe characters\n",
      "  for column names in R. [This is a message, not a warning or an error]\n",
      "\n",
      "-- replacing outliers and refitting for 9 genes\n",
      "-- DESeq argument 'minReplicatesForReplace' = 7 \n",
      "-- original counts are preserved in counts(dds)\n",
      "\n",
      "estimating dispersions\n",
      "\n",
      "  Note: levels of factors in the design contain characters other than\n",
      "  letters, numbers, '_' and '.'. It is recommended (but not required) to use\n",
      "  only letters, numbers, and delimiters '_' or '.', as these are safe characters\n",
      "  for column names in R. [This is a message, not a warning or an error]\n",
      "\n",
      "fitting model and testing\n",
      "\n",
      "  Note: levels of factors in the design contain characters other than\n",
      "  letters, numbers, '_' and '.'. It is recommended (but not required) to use\n",
      "  only letters, numbers, and delimiters '_' or '.', as these are safe characters\n",
      "  for column names in R. [This is a message, not a warning or an error]\n",
      "\n",
      "using 'normal' for LFC shrinkage, the Normal prior from Love et al (2014).\n",
      "\n",
      "Note that type='apeglm' and type='ashr' have shown to have less bias than type='normal'.\n",
      "See ?lfcShrink for more details on shrinkage type, and the DESeq2 vignette.\n",
      "Reference: https://doi.org/10.1093/bioinformatics/bty895\n",
      "\n"
     ]
    }
   ],
   "source": [
    "dds <- DESeq(dds)\n",
    "res <- results(dds, alpha=0.05, lfcThreshold=0)\n",
    "resS = lfcShrink(dds, alpha=0.05, lfcThreshold=0, coef=2, type=\"normal\")"
   ]
  },
  {
   "cell_type": "code",
   "execution_count": 8,
   "id": "d7e66ef5-f271-4b21-918e-8507f19616df",
   "metadata": {},
   "outputs": [
    {
     "name": "stdout",
     "output_type": "stream",
     "text": [
      "\n",
      "out of 28907 with nonzero total read count\n",
      "adjusted p-value < 0.05\n",
      "LFC > 0 (up)       : 1591, 5.5%\n",
      "LFC < 0 (down)     : 1865, 6.5%\n",
      "outliers [1]       : 0, 0%\n",
      "low counts [2]     : 5512, 19%\n",
      "(mean count < 0)\n",
      "[1] see 'cooksCutoff' argument of ?results\n",
      "[2] see 'independentFiltering' argument of ?results\n",
      "\n"
     ]
    }
   ],
   "source": [
    "summary(resS, alpha=0.05)"
   ]
  },
  {
   "cell_type": "code",
   "execution_count": 7,
   "id": "771815d2-0679-44e5-8a03-b7276a5fb08e",
   "metadata": {},
   "outputs": [],
   "source": [
    "# Save results\n",
    "# write.csv(res, \"DESeq2_bottomlyResults.csv\")\n",
    "# write.csv(resS, \"DESeq2_bottomlyWithShrinkageResults.csv\")"
   ]
  },
  {
   "cell_type": "markdown",
   "id": "5d6a9319-5dcb-4ba6-8d0b-7fc47bd31856",
   "metadata": {},
   "source": [
    "## References"
   ]
  },
  {
   "cell_type": "markdown",
   "id": "4c6d6757-6bdf-4d8f-8faa-de2fee29f2fa",
   "metadata": {},
   "source": [
    "Love, M. I., Huber, W., Anders, S. (2014). Moderated estimation of fold change and dispersion for RNA-seq data with DESeq2. _Genome Biology_, _15_(12), 550. [https://doi.org/10.1186/S13059-014-0550-8/FIGURES/9](https://doi.org/10.1186/S13059-014-0550-8/FIGURES/9)  \n",
    "Bottomly, D. et al. (2011). Evaluating Gene Expression in C57BL/6J and DBA/2J Mouse Striatum Using RNA-Seq and Microarrays. _PLOS ONE_, _6_(3), e17820. [https://doi.org/10.1371/JOURNAL.PONE.0017820](https://doi.org/10.1371/JOURNAL.PONE.0017820)  "
   ]
  }
 ],
 "metadata": {
  "kernelspec": {
   "display_name": "R",
   "language": "R",
   "name": "ir"
  },
  "language_info": {
   "codemirror_mode": "r",
   "file_extension": ".r",
   "mimetype": "text/x-r-source",
   "name": "R",
   "pygments_lexer": "r",
   "version": "4.2.1"
  }
 },
 "nbformat": 4,
 "nbformat_minor": 5
}
